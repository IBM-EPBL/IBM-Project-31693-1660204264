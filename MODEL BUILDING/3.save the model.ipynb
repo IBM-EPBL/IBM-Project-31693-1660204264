{
  "cells": [
    {
      "cell_type": "markdown",
      "id": "95ad9c0c",
      "metadata": {
        "id": "95ad9c0c"
      },
      "source": [
        "# Data Preprocessing"
      ]
    },
    {
      "cell_type": "markdown",
      "id": "39f726a4",
      "metadata": {
        "id": "39f726a4"
      },
      "source": [
        "## Importing the Libraries"
      ]
    },
    {
      "cell_type": "code",
      "execution_count": 1,
      "id": "878ddd5a",
      "metadata": {
        "id": "878ddd5a"
      },
      "outputs": [],
      "source": [
        "import numpy as np\n",
        "import pandas as pd\n",
        "import matplotlib.pyplot as plt\n",
        "import seaborn as sns\n",
        "%matplotlib inline"
      ]
    },
    {
      "cell_type": "markdown",
      "id": "c0f4bc2a",
      "metadata": {
        "id": "c0f4bc2a"
      },
      "source": [
        "## Reading the Dataset"
      ]
    },
    {
      "cell_type": "code",
      "execution_count": 2,
      "id": "e1bc095e",
      "metadata": {
        "id": "e1bc095e"
      },
      "outputs": [],
      "source": [
        "data = pd.read_csv('Admission_Predict.csv')"
      ]
    },
    {
      "cell_type": "code",
      "execution_count": 3,
      "id": "4288fcf3",
      "metadata": {
        "colab": {
          "base_uri": "https://localhost:8080/",
          "height": 206
        },
        "id": "4288fcf3",
        "outputId": "418f2a1b-8165-49b3-b5dd-24cfd7a69136"
      },
      "outputs": [
        {
          "output_type": "execute_result",
          "data": {
            "text/plain": [
              "   Serial No.  GRE Score  TOEFL Score  University Rating  SOP  LOR   CGPA  \\\n",
              "0           1        337          118                  4  4.5   4.5  9.65   \n",
              "1           2        324          107                  4  4.0   4.5  8.87   \n",
              "2           3        316          104                  3  3.0   3.5  8.00   \n",
              "3           4        322          110                  3  3.5   2.5  8.67   \n",
              "4           5        314          103                  2  2.0   3.0  8.21   \n",
              "\n",
              "   Research  Chance of Admit   \n",
              "0         1              0.92  \n",
              "1         1              0.76  \n",
              "2         1              0.72  \n",
              "3         1              0.80  \n",
              "4         0              0.65  "
            ],
            "text/html": [
              "\n",
              "  <div id=\"df-aa9521e3-05dc-4cf1-9d27-4945ffedebc2\">\n",
              "    <div class=\"colab-df-container\">\n",
              "      <div>\n",
              "<style scoped>\n",
              "    .dataframe tbody tr th:only-of-type {\n",
              "        vertical-align: middle;\n",
              "    }\n",
              "\n",
              "    .dataframe tbody tr th {\n",
              "        vertical-align: top;\n",
              "    }\n",
              "\n",
              "    .dataframe thead th {\n",
              "        text-align: right;\n",
              "    }\n",
              "</style>\n",
              "<table border=\"1\" class=\"dataframe\">\n",
              "  <thead>\n",
              "    <tr style=\"text-align: right;\">\n",
              "      <th></th>\n",
              "      <th>Serial No.</th>\n",
              "      <th>GRE Score</th>\n",
              "      <th>TOEFL Score</th>\n",
              "      <th>University Rating</th>\n",
              "      <th>SOP</th>\n",
              "      <th>LOR</th>\n",
              "      <th>CGPA</th>\n",
              "      <th>Research</th>\n",
              "      <th>Chance of Admit</th>\n",
              "    </tr>\n",
              "  </thead>\n",
              "  <tbody>\n",
              "    <tr>\n",
              "      <th>0</th>\n",
              "      <td>1</td>\n",
              "      <td>337</td>\n",
              "      <td>118</td>\n",
              "      <td>4</td>\n",
              "      <td>4.5</td>\n",
              "      <td>4.5</td>\n",
              "      <td>9.65</td>\n",
              "      <td>1</td>\n",
              "      <td>0.92</td>\n",
              "    </tr>\n",
              "    <tr>\n",
              "      <th>1</th>\n",
              "      <td>2</td>\n",
              "      <td>324</td>\n",
              "      <td>107</td>\n",
              "      <td>4</td>\n",
              "      <td>4.0</td>\n",
              "      <td>4.5</td>\n",
              "      <td>8.87</td>\n",
              "      <td>1</td>\n",
              "      <td>0.76</td>\n",
              "    </tr>\n",
              "    <tr>\n",
              "      <th>2</th>\n",
              "      <td>3</td>\n",
              "      <td>316</td>\n",
              "      <td>104</td>\n",
              "      <td>3</td>\n",
              "      <td>3.0</td>\n",
              "      <td>3.5</td>\n",
              "      <td>8.00</td>\n",
              "      <td>1</td>\n",
              "      <td>0.72</td>\n",
              "    </tr>\n",
              "    <tr>\n",
              "      <th>3</th>\n",
              "      <td>4</td>\n",
              "      <td>322</td>\n",
              "      <td>110</td>\n",
              "      <td>3</td>\n",
              "      <td>3.5</td>\n",
              "      <td>2.5</td>\n",
              "      <td>8.67</td>\n",
              "      <td>1</td>\n",
              "      <td>0.80</td>\n",
              "    </tr>\n",
              "    <tr>\n",
              "      <th>4</th>\n",
              "      <td>5</td>\n",
              "      <td>314</td>\n",
              "      <td>103</td>\n",
              "      <td>2</td>\n",
              "      <td>2.0</td>\n",
              "      <td>3.0</td>\n",
              "      <td>8.21</td>\n",
              "      <td>0</td>\n",
              "      <td>0.65</td>\n",
              "    </tr>\n",
              "  </tbody>\n",
              "</table>\n",
              "</div>\n",
              "      <button class=\"colab-df-convert\" onclick=\"convertToInteractive('df-aa9521e3-05dc-4cf1-9d27-4945ffedebc2')\"\n",
              "              title=\"Convert this dataframe to an interactive table.\"\n",
              "              style=\"display:none;\">\n",
              "        \n",
              "  <svg xmlns=\"http://www.w3.org/2000/svg\" height=\"24px\"viewBox=\"0 0 24 24\"\n",
              "       width=\"24px\">\n",
              "    <path d=\"M0 0h24v24H0V0z\" fill=\"none\"/>\n",
              "    <path d=\"M18.56 5.44l.94 2.06.94-2.06 2.06-.94-2.06-.94-.94-2.06-.94 2.06-2.06.94zm-11 1L8.5 8.5l.94-2.06 2.06-.94-2.06-.94L8.5 2.5l-.94 2.06-2.06.94zm10 10l.94 2.06.94-2.06 2.06-.94-2.06-.94-.94-2.06-.94 2.06-2.06.94z\"/><path d=\"M17.41 7.96l-1.37-1.37c-.4-.4-.92-.59-1.43-.59-.52 0-1.04.2-1.43.59L10.3 9.45l-7.72 7.72c-.78.78-.78 2.05 0 2.83L4 21.41c.39.39.9.59 1.41.59.51 0 1.02-.2 1.41-.59l7.78-7.78 2.81-2.81c.8-.78.8-2.07 0-2.86zM5.41 20L4 18.59l7.72-7.72 1.47 1.35L5.41 20z\"/>\n",
              "  </svg>\n",
              "      </button>\n",
              "      \n",
              "  <style>\n",
              "    .colab-df-container {\n",
              "      display:flex;\n",
              "      flex-wrap:wrap;\n",
              "      gap: 12px;\n",
              "    }\n",
              "\n",
              "    .colab-df-convert {\n",
              "      background-color: #E8F0FE;\n",
              "      border: none;\n",
              "      border-radius: 50%;\n",
              "      cursor: pointer;\n",
              "      display: none;\n",
              "      fill: #1967D2;\n",
              "      height: 32px;\n",
              "      padding: 0 0 0 0;\n",
              "      width: 32px;\n",
              "    }\n",
              "\n",
              "    .colab-df-convert:hover {\n",
              "      background-color: #E2EBFA;\n",
              "      box-shadow: 0px 1px 2px rgba(60, 64, 67, 0.3), 0px 1px 3px 1px rgba(60, 64, 67, 0.15);\n",
              "      fill: #174EA6;\n",
              "    }\n",
              "\n",
              "    [theme=dark] .colab-df-convert {\n",
              "      background-color: #3B4455;\n",
              "      fill: #D2E3FC;\n",
              "    }\n",
              "\n",
              "    [theme=dark] .colab-df-convert:hover {\n",
              "      background-color: #434B5C;\n",
              "      box-shadow: 0px 1px 3px 1px rgba(0, 0, 0, 0.15);\n",
              "      filter: drop-shadow(0px 1px 2px rgba(0, 0, 0, 0.3));\n",
              "      fill: #FFFFFF;\n",
              "    }\n",
              "  </style>\n",
              "\n",
              "      <script>\n",
              "        const buttonEl =\n",
              "          document.querySelector('#df-aa9521e3-05dc-4cf1-9d27-4945ffedebc2 button.colab-df-convert');\n",
              "        buttonEl.style.display =\n",
              "          google.colab.kernel.accessAllowed ? 'block' : 'none';\n",
              "\n",
              "        async function convertToInteractive(key) {\n",
              "          const element = document.querySelector('#df-aa9521e3-05dc-4cf1-9d27-4945ffedebc2');\n",
              "          const dataTable =\n",
              "            await google.colab.kernel.invokeFunction('convertToInteractive',\n",
              "                                                     [key], {});\n",
              "          if (!dataTable) return;\n",
              "\n",
              "          const docLinkHtml = 'Like what you see? Visit the ' +\n",
              "            '<a target=\"_blank\" href=https://colab.research.google.com/notebooks/data_table.ipynb>data table notebook</a>'\n",
              "            + ' to learn more about interactive tables.';\n",
              "          element.innerHTML = '';\n",
              "          dataTable['output_type'] = 'display_data';\n",
              "          await google.colab.output.renderOutput(dataTable, element);\n",
              "          const docLink = document.createElement('div');\n",
              "          docLink.innerHTML = docLinkHtml;\n",
              "          element.appendChild(docLink);\n",
              "        }\n",
              "      </script>\n",
              "    </div>\n",
              "  </div>\n",
              "  "
            ]
          },
          "metadata": {},
          "execution_count": 3
        }
      ],
      "source": [
        "data.head()"
      ]
    },
    {
      "cell_type": "code",
      "execution_count": 4,
      "id": "3c26c7f2",
      "metadata": {
        "scrolled": true,
        "colab": {
          "base_uri": "https://localhost:8080/",
          "height": 206
        },
        "id": "3c26c7f2",
        "outputId": "acfc550a-54a3-4ee9-a859-cafed1177431"
      },
      "outputs": [
        {
          "output_type": "execute_result",
          "data": {
            "text/plain": [
              "     Serial No.  GRE Score  TOEFL Score  University Rating  SOP  LOR   CGPA  \\\n",
              "395         396        324          110                  3  3.5   3.5  9.04   \n",
              "396         397        325          107                  3  3.0   3.5  9.11   \n",
              "397         398        330          116                  4  5.0   4.5  9.45   \n",
              "398         399        312          103                  3  3.5   4.0  8.78   \n",
              "399         400        333          117                  4  5.0   4.0  9.66   \n",
              "\n",
              "     Research  Chance of Admit   \n",
              "395         1              0.82  \n",
              "396         1              0.84  \n",
              "397         1              0.91  \n",
              "398         0              0.67  \n",
              "399         1              0.95  "
            ],
            "text/html": [
              "\n",
              "  <div id=\"df-036d0c30-3837-41e4-8335-da76a1fd1131\">\n",
              "    <div class=\"colab-df-container\">\n",
              "      <div>\n",
              "<style scoped>\n",
              "    .dataframe tbody tr th:only-of-type {\n",
              "        vertical-align: middle;\n",
              "    }\n",
              "\n",
              "    .dataframe tbody tr th {\n",
              "        vertical-align: top;\n",
              "    }\n",
              "\n",
              "    .dataframe thead th {\n",
              "        text-align: right;\n",
              "    }\n",
              "</style>\n",
              "<table border=\"1\" class=\"dataframe\">\n",
              "  <thead>\n",
              "    <tr style=\"text-align: right;\">\n",
              "      <th></th>\n",
              "      <th>Serial No.</th>\n",
              "      <th>GRE Score</th>\n",
              "      <th>TOEFL Score</th>\n",
              "      <th>University Rating</th>\n",
              "      <th>SOP</th>\n",
              "      <th>LOR</th>\n",
              "      <th>CGPA</th>\n",
              "      <th>Research</th>\n",
              "      <th>Chance of Admit</th>\n",
              "    </tr>\n",
              "  </thead>\n",
              "  <tbody>\n",
              "    <tr>\n",
              "      <th>395</th>\n",
              "      <td>396</td>\n",
              "      <td>324</td>\n",
              "      <td>110</td>\n",
              "      <td>3</td>\n",
              "      <td>3.5</td>\n",
              "      <td>3.5</td>\n",
              "      <td>9.04</td>\n",
              "      <td>1</td>\n",
              "      <td>0.82</td>\n",
              "    </tr>\n",
              "    <tr>\n",
              "      <th>396</th>\n",
              "      <td>397</td>\n",
              "      <td>325</td>\n",
              "      <td>107</td>\n",
              "      <td>3</td>\n",
              "      <td>3.0</td>\n",
              "      <td>3.5</td>\n",
              "      <td>9.11</td>\n",
              "      <td>1</td>\n",
              "      <td>0.84</td>\n",
              "    </tr>\n",
              "    <tr>\n",
              "      <th>397</th>\n",
              "      <td>398</td>\n",
              "      <td>330</td>\n",
              "      <td>116</td>\n",
              "      <td>4</td>\n",
              "      <td>5.0</td>\n",
              "      <td>4.5</td>\n",
              "      <td>9.45</td>\n",
              "      <td>1</td>\n",
              "      <td>0.91</td>\n",
              "    </tr>\n",
              "    <tr>\n",
              "      <th>398</th>\n",
              "      <td>399</td>\n",
              "      <td>312</td>\n",
              "      <td>103</td>\n",
              "      <td>3</td>\n",
              "      <td>3.5</td>\n",
              "      <td>4.0</td>\n",
              "      <td>8.78</td>\n",
              "      <td>0</td>\n",
              "      <td>0.67</td>\n",
              "    </tr>\n",
              "    <tr>\n",
              "      <th>399</th>\n",
              "      <td>400</td>\n",
              "      <td>333</td>\n",
              "      <td>117</td>\n",
              "      <td>4</td>\n",
              "      <td>5.0</td>\n",
              "      <td>4.0</td>\n",
              "      <td>9.66</td>\n",
              "      <td>1</td>\n",
              "      <td>0.95</td>\n",
              "    </tr>\n",
              "  </tbody>\n",
              "</table>\n",
              "</div>\n",
              "      <button class=\"colab-df-convert\" onclick=\"convertToInteractive('df-036d0c30-3837-41e4-8335-da76a1fd1131')\"\n",
              "              title=\"Convert this dataframe to an interactive table.\"\n",
              "              style=\"display:none;\">\n",
              "        \n",
              "  <svg xmlns=\"http://www.w3.org/2000/svg\" height=\"24px\"viewBox=\"0 0 24 24\"\n",
              "       width=\"24px\">\n",
              "    <path d=\"M0 0h24v24H0V0z\" fill=\"none\"/>\n",
              "    <path d=\"M18.56 5.44l.94 2.06.94-2.06 2.06-.94-2.06-.94-.94-2.06-.94 2.06-2.06.94zm-11 1L8.5 8.5l.94-2.06 2.06-.94-2.06-.94L8.5 2.5l-.94 2.06-2.06.94zm10 10l.94 2.06.94-2.06 2.06-.94-2.06-.94-.94-2.06-.94 2.06-2.06.94z\"/><path d=\"M17.41 7.96l-1.37-1.37c-.4-.4-.92-.59-1.43-.59-.52 0-1.04.2-1.43.59L10.3 9.45l-7.72 7.72c-.78.78-.78 2.05 0 2.83L4 21.41c.39.39.9.59 1.41.59.51 0 1.02-.2 1.41-.59l7.78-7.78 2.81-2.81c.8-.78.8-2.07 0-2.86zM5.41 20L4 18.59l7.72-7.72 1.47 1.35L5.41 20z\"/>\n",
              "  </svg>\n",
              "      </button>\n",
              "      \n",
              "  <style>\n",
              "    .colab-df-container {\n",
              "      display:flex;\n",
              "      flex-wrap:wrap;\n",
              "      gap: 12px;\n",
              "    }\n",
              "\n",
              "    .colab-df-convert {\n",
              "      background-color: #E8F0FE;\n",
              "      border: none;\n",
              "      border-radius: 50%;\n",
              "      cursor: pointer;\n",
              "      display: none;\n",
              "      fill: #1967D2;\n",
              "      height: 32px;\n",
              "      padding: 0 0 0 0;\n",
              "      width: 32px;\n",
              "    }\n",
              "\n",
              "    .colab-df-convert:hover {\n",
              "      background-color: #E2EBFA;\n",
              "      box-shadow: 0px 1px 2px rgba(60, 64, 67, 0.3), 0px 1px 3px 1px rgba(60, 64, 67, 0.15);\n",
              "      fill: #174EA6;\n",
              "    }\n",
              "\n",
              "    [theme=dark] .colab-df-convert {\n",
              "      background-color: #3B4455;\n",
              "      fill: #D2E3FC;\n",
              "    }\n",
              "\n",
              "    [theme=dark] .colab-df-convert:hover {\n",
              "      background-color: #434B5C;\n",
              "      box-shadow: 0px 1px 3px 1px rgba(0, 0, 0, 0.15);\n",
              "      filter: drop-shadow(0px 1px 2px rgba(0, 0, 0, 0.3));\n",
              "      fill: #FFFFFF;\n",
              "    }\n",
              "  </style>\n",
              "\n",
              "      <script>\n",
              "        const buttonEl =\n",
              "          document.querySelector('#df-036d0c30-3837-41e4-8335-da76a1fd1131 button.colab-df-convert');\n",
              "        buttonEl.style.display =\n",
              "          google.colab.kernel.accessAllowed ? 'block' : 'none';\n",
              "\n",
              "        async function convertToInteractive(key) {\n",
              "          const element = document.querySelector('#df-036d0c30-3837-41e4-8335-da76a1fd1131');\n",
              "          const dataTable =\n",
              "            await google.colab.kernel.invokeFunction('convertToInteractive',\n",
              "                                                     [key], {});\n",
              "          if (!dataTable) return;\n",
              "\n",
              "          const docLinkHtml = 'Like what you see? Visit the ' +\n",
              "            '<a target=\"_blank\" href=https://colab.research.google.com/notebooks/data_table.ipynb>data table notebook</a>'\n",
              "            + ' to learn more about interactive tables.';\n",
              "          element.innerHTML = '';\n",
              "          dataTable['output_type'] = 'display_data';\n",
              "          await google.colab.output.renderOutput(dataTable, element);\n",
              "          const docLink = document.createElement('div');\n",
              "          docLink.innerHTML = docLinkHtml;\n",
              "          element.appendChild(docLink);\n",
              "        }\n",
              "      </script>\n",
              "    </div>\n",
              "  </div>\n",
              "  "
            ]
          },
          "metadata": {},
          "execution_count": 4
        }
      ],
      "source": [
        "data.tail()"
      ]
    },
    {
      "cell_type": "code",
      "execution_count": 5,
      "id": "306eefa4",
      "metadata": {
        "colab": {
          "base_uri": "https://localhost:8080/"
        },
        "id": "306eefa4",
        "outputId": "d5bc6f23-70d1-4aa8-bcc4-531bb6e57859"
      },
      "outputs": [
        {
          "output_type": "stream",
          "name": "stdout",
          "text": [
            "No of Rows in the dataset : 400\n",
            "No of Columns in the dataset : 9\n"
          ]
        }
      ],
      "source": [
        "print(f'No of Rows in the dataset : {data.shape[0]}')\n",
        "print(f'No of Columns in the dataset : {data.shape[1]}')"
      ]
    },
    {
      "cell_type": "markdown",
      "id": "5b119561",
      "metadata": {
        "id": "5b119561"
      },
      "source": [
        "## Descriptive Statistics"
      ]
    },
    {
      "cell_type": "code",
      "execution_count": 6,
      "id": "a283c8a2",
      "metadata": {
        "scrolled": false,
        "colab": {
          "base_uri": "https://localhost:8080/",
          "height": 0
        },
        "id": "a283c8a2",
        "outputId": "094e941d-dc02-445c-ad98-76d6d9d45e9e"
      },
      "outputs": [
        {
          "output_type": "execute_result",
          "data": {
            "text/plain": [
              "       Serial No.   GRE Score  TOEFL Score  University Rating         SOP  \\\n",
              "count  400.000000  400.000000   400.000000         400.000000  400.000000   \n",
              "mean   200.500000  316.807500   107.410000           3.087500    3.400000   \n",
              "std    115.614301   11.473646     6.069514           1.143728    1.006869   \n",
              "min      1.000000  290.000000    92.000000           1.000000    1.000000   \n",
              "25%    100.750000  308.000000   103.000000           2.000000    2.500000   \n",
              "50%    200.500000  317.000000   107.000000           3.000000    3.500000   \n",
              "75%    300.250000  325.000000   112.000000           4.000000    4.000000   \n",
              "max    400.000000  340.000000   120.000000           5.000000    5.000000   \n",
              "\n",
              "             LOR         CGPA    Research  Chance of Admit   \n",
              "count  400.000000  400.000000  400.000000        400.000000  \n",
              "mean     3.452500    8.598925    0.547500          0.724350  \n",
              "std      0.898478    0.596317    0.498362          0.142609  \n",
              "min      1.000000    6.800000    0.000000          0.340000  \n",
              "25%      3.000000    8.170000    0.000000          0.640000  \n",
              "50%      3.500000    8.610000    1.000000          0.730000  \n",
              "75%      4.000000    9.062500    1.000000          0.830000  \n",
              "max      5.000000    9.920000    1.000000          0.970000  "
            ],
            "text/html": [
              "\n",
              "  <div id=\"df-63bbbed9-6b51-4870-89d2-9d7599620a72\">\n",
              "    <div class=\"colab-df-container\">\n",
              "      <div>\n",
              "<style scoped>\n",
              "    .dataframe tbody tr th:only-of-type {\n",
              "        vertical-align: middle;\n",
              "    }\n",
              "\n",
              "    .dataframe tbody tr th {\n",
              "        vertical-align: top;\n",
              "    }\n",
              "\n",
              "    .dataframe thead th {\n",
              "        text-align: right;\n",
              "    }\n",
              "</style>\n",
              "<table border=\"1\" class=\"dataframe\">\n",
              "  <thead>\n",
              "    <tr style=\"text-align: right;\">\n",
              "      <th></th>\n",
              "      <th>Serial No.</th>\n",
              "      <th>GRE Score</th>\n",
              "      <th>TOEFL Score</th>\n",
              "      <th>University Rating</th>\n",
              "      <th>SOP</th>\n",
              "      <th>LOR</th>\n",
              "      <th>CGPA</th>\n",
              "      <th>Research</th>\n",
              "      <th>Chance of Admit</th>\n",
              "    </tr>\n",
              "  </thead>\n",
              "  <tbody>\n",
              "    <tr>\n",
              "      <th>count</th>\n",
              "      <td>400.000000</td>\n",
              "      <td>400.000000</td>\n",
              "      <td>400.000000</td>\n",
              "      <td>400.000000</td>\n",
              "      <td>400.000000</td>\n",
              "      <td>400.000000</td>\n",
              "      <td>400.000000</td>\n",
              "      <td>400.000000</td>\n",
              "      <td>400.000000</td>\n",
              "    </tr>\n",
              "    <tr>\n",
              "      <th>mean</th>\n",
              "      <td>200.500000</td>\n",
              "      <td>316.807500</td>\n",
              "      <td>107.410000</td>\n",
              "      <td>3.087500</td>\n",
              "      <td>3.400000</td>\n",
              "      <td>3.452500</td>\n",
              "      <td>8.598925</td>\n",
              "      <td>0.547500</td>\n",
              "      <td>0.724350</td>\n",
              "    </tr>\n",
              "    <tr>\n",
              "      <th>std</th>\n",
              "      <td>115.614301</td>\n",
              "      <td>11.473646</td>\n",
              "      <td>6.069514</td>\n",
              "      <td>1.143728</td>\n",
              "      <td>1.006869</td>\n",
              "      <td>0.898478</td>\n",
              "      <td>0.596317</td>\n",
              "      <td>0.498362</td>\n",
              "      <td>0.142609</td>\n",
              "    </tr>\n",
              "    <tr>\n",
              "      <th>min</th>\n",
              "      <td>1.000000</td>\n",
              "      <td>290.000000</td>\n",
              "      <td>92.000000</td>\n",
              "      <td>1.000000</td>\n",
              "      <td>1.000000</td>\n",
              "      <td>1.000000</td>\n",
              "      <td>6.800000</td>\n",
              "      <td>0.000000</td>\n",
              "      <td>0.340000</td>\n",
              "    </tr>\n",
              "    <tr>\n",
              "      <th>25%</th>\n",
              "      <td>100.750000</td>\n",
              "      <td>308.000000</td>\n",
              "      <td>103.000000</td>\n",
              "      <td>2.000000</td>\n",
              "      <td>2.500000</td>\n",
              "      <td>3.000000</td>\n",
              "      <td>8.170000</td>\n",
              "      <td>0.000000</td>\n",
              "      <td>0.640000</td>\n",
              "    </tr>\n",
              "    <tr>\n",
              "      <th>50%</th>\n",
              "      <td>200.500000</td>\n",
              "      <td>317.000000</td>\n",
              "      <td>107.000000</td>\n",
              "      <td>3.000000</td>\n",
              "      <td>3.500000</td>\n",
              "      <td>3.500000</td>\n",
              "      <td>8.610000</td>\n",
              "      <td>1.000000</td>\n",
              "      <td>0.730000</td>\n",
              "    </tr>\n",
              "    <tr>\n",
              "      <th>75%</th>\n",
              "      <td>300.250000</td>\n",
              "      <td>325.000000</td>\n",
              "      <td>112.000000</td>\n",
              "      <td>4.000000</td>\n",
              "      <td>4.000000</td>\n",
              "      <td>4.000000</td>\n",
              "      <td>9.062500</td>\n",
              "      <td>1.000000</td>\n",
              "      <td>0.830000</td>\n",
              "    </tr>\n",
              "    <tr>\n",
              "      <th>max</th>\n",
              "      <td>400.000000</td>\n",
              "      <td>340.000000</td>\n",
              "      <td>120.000000</td>\n",
              "      <td>5.000000</td>\n",
              "      <td>5.000000</td>\n",
              "      <td>5.000000</td>\n",
              "      <td>9.920000</td>\n",
              "      <td>1.000000</td>\n",
              "      <td>0.970000</td>\n",
              "    </tr>\n",
              "  </tbody>\n",
              "</table>\n",
              "</div>\n",
              "      <button class=\"colab-df-convert\" onclick=\"convertToInteractive('df-63bbbed9-6b51-4870-89d2-9d7599620a72')\"\n",
              "              title=\"Convert this dataframe to an interactive table.\"\n",
              "              style=\"display:none;\">\n",
              "        \n",
              "  <svg xmlns=\"http://www.w3.org/2000/svg\" height=\"24px\"viewBox=\"0 0 24 24\"\n",
              "       width=\"24px\">\n",
              "    <path d=\"M0 0h24v24H0V0z\" fill=\"none\"/>\n",
              "    <path d=\"M18.56 5.44l.94 2.06.94-2.06 2.06-.94-2.06-.94-.94-2.06-.94 2.06-2.06.94zm-11 1L8.5 8.5l.94-2.06 2.06-.94-2.06-.94L8.5 2.5l-.94 2.06-2.06.94zm10 10l.94 2.06.94-2.06 2.06-.94-2.06-.94-.94-2.06-.94 2.06-2.06.94z\"/><path d=\"M17.41 7.96l-1.37-1.37c-.4-.4-.92-.59-1.43-.59-.52 0-1.04.2-1.43.59L10.3 9.45l-7.72 7.72c-.78.78-.78 2.05 0 2.83L4 21.41c.39.39.9.59 1.41.59.51 0 1.02-.2 1.41-.59l7.78-7.78 2.81-2.81c.8-.78.8-2.07 0-2.86zM5.41 20L4 18.59l7.72-7.72 1.47 1.35L5.41 20z\"/>\n",
              "  </svg>\n",
              "      </button>\n",
              "      \n",
              "  <style>\n",
              "    .colab-df-container {\n",
              "      display:flex;\n",
              "      flex-wrap:wrap;\n",
              "      gap: 12px;\n",
              "    }\n",
              "\n",
              "    .colab-df-convert {\n",
              "      background-color: #E8F0FE;\n",
              "      border: none;\n",
              "      border-radius: 50%;\n",
              "      cursor: pointer;\n",
              "      display: none;\n",
              "      fill: #1967D2;\n",
              "      height: 32px;\n",
              "      padding: 0 0 0 0;\n",
              "      width: 32px;\n",
              "    }\n",
              "\n",
              "    .colab-df-convert:hover {\n",
              "      background-color: #E2EBFA;\n",
              "      box-shadow: 0px 1px 2px rgba(60, 64, 67, 0.3), 0px 1px 3px 1px rgba(60, 64, 67, 0.15);\n",
              "      fill: #174EA6;\n",
              "    }\n",
              "\n",
              "    [theme=dark] .colab-df-convert {\n",
              "      background-color: #3B4455;\n",
              "      fill: #D2E3FC;\n",
              "    }\n",
              "\n",
              "    [theme=dark] .colab-df-convert:hover {\n",
              "      background-color: #434B5C;\n",
              "      box-shadow: 0px 1px 3px 1px rgba(0, 0, 0, 0.15);\n",
              "      filter: drop-shadow(0px 1px 2px rgba(0, 0, 0, 0.3));\n",
              "      fill: #FFFFFF;\n",
              "    }\n",
              "  </style>\n",
              "\n",
              "      <script>\n",
              "        const buttonEl =\n",
              "          document.querySelector('#df-63bbbed9-6b51-4870-89d2-9d7599620a72 button.colab-df-convert');\n",
              "        buttonEl.style.display =\n",
              "          google.colab.kernel.accessAllowed ? 'block' : 'none';\n",
              "\n",
              "        async function convertToInteractive(key) {\n",
              "          const element = document.querySelector('#df-63bbbed9-6b51-4870-89d2-9d7599620a72');\n",
              "          const dataTable =\n",
              "            await google.colab.kernel.invokeFunction('convertToInteractive',\n",
              "                                                     [key], {});\n",
              "          if (!dataTable) return;\n",
              "\n",
              "          const docLinkHtml = 'Like what you see? Visit the ' +\n",
              "            '<a target=\"_blank\" href=https://colab.research.google.com/notebooks/data_table.ipynb>data table notebook</a>'\n",
              "            + ' to learn more about interactive tables.';\n",
              "          element.innerHTML = '';\n",
              "          dataTable['output_type'] = 'display_data';\n",
              "          await google.colab.output.renderOutput(dataTable, element);\n",
              "          const docLink = document.createElement('div');\n",
              "          docLink.innerHTML = docLinkHtml;\n",
              "          element.appendChild(docLink);\n",
              "        }\n",
              "      </script>\n",
              "    </div>\n",
              "  </div>\n",
              "  "
            ]
          },
          "metadata": {},
          "execution_count": 6
        }
      ],
      "source": [
        "data.describe()"
      ]
    },
    {
      "cell_type": "code",
      "execution_count": 7,
      "id": "c5049127",
      "metadata": {
        "scrolled": true,
        "colab": {
          "base_uri": "https://localhost:8080/"
        },
        "id": "c5049127",
        "outputId": "7ee3be0c-dd64-4fe4-cae7-ff220f542ab8"
      },
      "outputs": [
        {
          "output_type": "execute_result",
          "data": {
            "text/plain": [
              "Serial No.           0.000000\n",
              "GRE Score           -0.062893\n",
              "TOEFL Score          0.057216\n",
              "University Rating    0.171260\n",
              "SOP                 -0.275761\n",
              "LOR                 -0.106991\n",
              "CGPA                -0.065991\n",
              "Research            -0.191582\n",
              "Chance of Admit     -0.353448\n",
              "dtype: float64"
            ]
          },
          "metadata": {},
          "execution_count": 7
        }
      ],
      "source": [
        "data.skew()"
      ]
    },
    {
      "cell_type": "markdown",
      "id": "8bf7a8e8",
      "metadata": {
        "id": "8bf7a8e8"
      },
      "source": [
        "## Handling Missing Values"
      ]
    },
    {
      "cell_type": "code",
      "execution_count": 8,
      "id": "f1b6b33f",
      "metadata": {
        "id": "f1b6b33f"
      },
      "outputs": [],
      "source": [
        "# Remove unwanted feature\n",
        "data.drop('Serial No.', inplace=True, axis=1)"
      ]
    },
    {
      "cell_type": "code",
      "execution_count": 9,
      "id": "d22a62d2",
      "metadata": {
        "scrolled": true,
        "colab": {
          "base_uri": "https://localhost:8080/"
        },
        "id": "d22a62d2",
        "outputId": "9543e486-476b-4c93-daba-dba207b3a4f2"
      },
      "outputs": [
        {
          "output_type": "execute_result",
          "data": {
            "text/plain": [
              "Index(['GRE Score', 'TOEFL Score', 'University Rating', 'SOP', 'LOR ', 'CGPA',\n",
              "       'Research', 'Chance of Admit '],\n",
              "      dtype='object')"
            ]
          },
          "metadata": {},
          "execution_count": 9
        }
      ],
      "source": [
        "data.columns"
      ]
    },
    {
      "cell_type": "code",
      "execution_count": 10,
      "id": "f6ed0018",
      "metadata": {
        "id": "f6ed0018"
      },
      "outputs": [],
      "source": [
        "#rename the column\n",
        "data = data.rename(columns={'LOR ':'LOR','Chance of Admit ':'Chance of Admit'})"
      ]
    },
    {
      "cell_type": "code",
      "execution_count": 11,
      "id": "3ae0d29c",
      "metadata": {
        "colab": {
          "base_uri": "https://localhost:8080/"
        },
        "id": "3ae0d29c",
        "outputId": "77e5a6dc-e0ee-4cb2-a80a-7122e02e2b01"
      },
      "outputs": [
        {
          "output_type": "execute_result",
          "data": {
            "text/plain": [
              "Index(['GRE Score', 'TOEFL Score', 'University Rating', 'SOP', 'LOR', 'CGPA',\n",
              "       'Research', 'Chance of Admit'],\n",
              "      dtype='object')"
            ]
          },
          "metadata": {},
          "execution_count": 11
        }
      ],
      "source": [
        "data.columns"
      ]
    },
    {
      "cell_type": "code",
      "execution_count": 12,
      "id": "4e1fba6c",
      "metadata": {
        "scrolled": true,
        "colab": {
          "base_uri": "https://localhost:8080/"
        },
        "id": "4e1fba6c",
        "outputId": "1872fbb8-4e55-421b-a233-22c202922240"
      },
      "outputs": [
        {
          "output_type": "execute_result",
          "data": {
            "text/plain": [
              "GRE Score            0\n",
              "TOEFL Score          0\n",
              "University Rating    0\n",
              "SOP                  0\n",
              "LOR                  0\n",
              "CGPA                 0\n",
              "Research             0\n",
              "Chance of Admit      0\n",
              "dtype: int64"
            ]
          },
          "metadata": {},
          "execution_count": 12
        }
      ],
      "source": [
        "data.isnull().sum()"
      ]
    },
    {
      "cell_type": "markdown",
      "id": "414c391d",
      "metadata": {
        "id": "414c391d"
      },
      "source": [
        "*The Dataset does not have any null values*"
      ]
    },
    {
      "cell_type": "markdown",
      "id": "d6d5421b",
      "metadata": {
        "id": "d6d5421b"
      },
      "source": [
        "## Check for Categorical columns"
      ]
    },
    {
      "cell_type": "code",
      "execution_count": 13,
      "id": "301e9e04",
      "metadata": {
        "colab": {
          "base_uri": "https://localhost:8080/"
        },
        "id": "301e9e04",
        "outputId": "ed1a76ce-88fd-49cf-efd1-379a27eec4c2"
      },
      "outputs": [
        {
          "output_type": "stream",
          "name": "stdout",
          "text": [
            "<class 'pandas.core.frame.DataFrame'>\n",
            "RangeIndex: 400 entries, 0 to 399\n",
            "Data columns (total 8 columns):\n",
            " #   Column             Non-Null Count  Dtype  \n",
            "---  ------             --------------  -----  \n",
            " 0   GRE Score          400 non-null    int64  \n",
            " 1   TOEFL Score        400 non-null    int64  \n",
            " 2   University Rating  400 non-null    int64  \n",
            " 3   SOP                400 non-null    float64\n",
            " 4   LOR                400 non-null    float64\n",
            " 5   CGPA               400 non-null    float64\n",
            " 6   Research           400 non-null    int64  \n",
            " 7   Chance of Admit    400 non-null    float64\n",
            "dtypes: float64(4), int64(4)\n",
            "memory usage: 25.1 KB\n"
          ]
        }
      ],
      "source": [
        "data.info()"
      ]
    },
    {
      "cell_type": "code",
      "execution_count": 14,
      "id": "5ebd8a4a",
      "metadata": {
        "scrolled": false,
        "colab": {
          "base_uri": "https://localhost:8080/"
        },
        "id": "5ebd8a4a",
        "outputId": "7147ff0a-74cb-4289-df1d-23f83aba8d2a"
      },
      "outputs": [
        {
          "output_type": "execute_result",
          "data": {
            "text/plain": [
              "GRE Score              int64\n",
              "TOEFL Score            int64\n",
              "University Rating      int64\n",
              "SOP                  float64\n",
              "LOR                  float64\n",
              "CGPA                 float64\n",
              "Research               int64\n",
              "Chance of Admit      float64\n",
              "dtype: object"
            ]
          },
          "metadata": {},
          "execution_count": 14
        }
      ],
      "source": [
        "data.dtypes"
      ]
    },
    {
      "cell_type": "markdown",
      "id": "276ca089",
      "metadata": {
        "id": "276ca089"
      },
      "source": [
        "*Data looks pretty clean and in the right data type format.*"
      ]
    },
    {
      "cell_type": "markdown",
      "id": "1c6f86ab",
      "metadata": {
        "id": "1c6f86ab"
      },
      "source": [
        "## Data Visualization"
      ]
    },
    {
      "cell_type": "markdown",
      "id": "2b49b2da",
      "metadata": {
        "id": "2b49b2da"
      },
      "source": [
        "### Univariate Analysis"
      ]
    },
    {
      "cell_type": "code",
      "execution_count": 15,
      "id": "7ff9d244",
      "metadata": {
        "colab": {
          "base_uri": "https://localhost:8080/",
          "height": 0
        },
        "id": "7ff9d244",
        "outputId": "42e5d398-31c0-498a-f28d-ade8e998297b"
      },
      "outputs": [
        {
          "output_type": "display_data",
          "data": {
            "text/plain": [
              "<Figure size 360x360 with 1 Axes>"
            ],
            "image/png": "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\n"
          },
          "metadata": {
            "needs_background": "light"
          }
        }
      ],
      "source": [
        "sns.displot(x=data[\"GRE Score\"], kde=True, color='green')\n",
        "plt.title(\"GRE score distribution\");"
      ]
    },
    {
      "cell_type": "markdown",
      "id": "e7ef847a",
      "metadata": {
        "id": "e7ef847a"
      },
      "source": [
        "Observations for GRE Score :\n",
        "- Score is distributed in the range of 290 to 340.\n",
        "- Peaks are observed between 310 to 330 indicating most applicants have scored in this range."
      ]
    },
    {
      "cell_type": "code",
      "execution_count": 16,
      "id": "eb4bcb4b",
      "metadata": {
        "scrolled": true,
        "colab": {
          "base_uri": "https://localhost:8080/",
          "height": 0
        },
        "id": "eb4bcb4b",
        "outputId": "efe2ddc2-dcd3-4592-b18b-3b6be3ca2ea0"
      },
      "outputs": [
        {
          "output_type": "display_data",
          "data": {
            "text/plain": [
              "<Figure size 360x360 with 1 Axes>"
            ],
            "image/png": "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\n"
          },
          "metadata": {
            "needs_background": "light"
          }
        }
      ],
      "source": [
        "sns.displot(x=data[\"TOEFL Score\"], kde=True, color='purple')\n",
        "plt.title(\"TOEFL score distribution\");"
      ]
    },
    {
      "cell_type": "markdown",
      "id": "0e45a10e",
      "metadata": {
        "id": "0e45a10e"
      },
      "source": [
        "Observations from TOFEL Score :\n",
        "- TOFEL scores are distributed in the range of 90 to 120.\n",
        "- A good number of applicants have scored in between 100 to 115."
      ]
    },
    {
      "cell_type": "code",
      "execution_count": 17,
      "id": "1a4c1dd3",
      "metadata": {
        "colab": {
          "base_uri": "https://localhost:8080/",
          "height": 0
        },
        "id": "1a4c1dd3",
        "outputId": "c0b01e0a-f935-4065-de41-96349fa54136"
      },
      "outputs": [
        {
          "output_type": "display_data",
          "data": {
            "text/plain": [
              "<Figure size 432x288 with 1 Axes>"
            ],
            "image/png": "iVBORw0KGgoAAAANSUhEUgAAAYkAAAEWCAYAAACT7WsrAAAABHNCSVQICAgIfAhkiAAAAAlwSFlzAAALEgAACxIB0t1+/AAAADh0RVh0U29mdHdhcmUAbWF0cGxvdGxpYiB2ZXJzaW9uMy4yLjIsIGh0dHA6Ly9tYXRwbG90bGliLm9yZy+WH4yJAAAeYUlEQVR4nO3deZgcZbn+8e+dhH0xhMxBSIJBiCK7GhFFNBegRkXCQUQ4gAGiUY8LigvgUVnUo/5EFvcTQQOyCyJxJ7IYQQETQHYlYICEhATCEkTEwPP7432HqTT9znSS6amZzP25rr6mu9anqrrrrnqru0YRgZmZWTND6i7AzMz6L4eEmZkVOSTMzKzIIWFmZkUOCTMzK3JImJlZkUOiB5KmS/pSTfOWpB9JelTSDW2Y/paSnpQ0tLen3cN8b5c0oZv+v5Y0uZfnuZmkWZKWSfpGb067N0kKSdvUXUe7tGPb5ulOkDS/t6fb2yTNk7R3fv5ZSWfUXVNPhtVdwMqSNA9YH9gqIv6Ru70PODQiJtRYWju8AXgzMLpzWasknQBsExGHNnQPYFxEzO1u4hFxP7Bh75XbmojYvvN5s2WIiLe1YbZTgYeBjWMN/3GQpLHA34G1ImJ5jXWcQN9s2wEpIv633fMo7SNWxkA9kxgKHFV3EStrFY7YXwLMaxYQ/Zmk/njw8RLgjlUJiH66PG3TyvIOtnUyqEXEgHoA84BjgaXA8NztfcDV+flYIIBhlXGuBt6Xnx8OXAucCjwG3Au8Pnd/AFgMTK6MOx34PjATWAb8HnhJpf+2ud9S4K/AgQ3jfg/4FfAPYO8my7MFMCOPPxd4f+4+BXgaeBZ4EjixybgnAOc06R6ko4fOZf9iXuZlwOXAyMZ1BbwHmN0wnU8AM/LzdYCTgfuBh/I6WS/3mwDMB44BFgE/BkYCv8jreCnwB2BIZRvuDUwEngH+nZfxL43bK78+ErgTeBT4bef6B5S342LgCeBWYIcm62N6nsczeT575+U5DXgwP04D1iktT+G92LSu3O900vvpCWAOsEel31Dgs8A9eZvMAcZUtt0HgbvzuvsOoML8dwVm53k8BJySu9+fp/NkfrwO2Bq4EniEdEZ1LvnzU9kmxwC3AP+i8vlpeF99ONf29+6Ws5VtS/rMXUN6Xz1KOvt5W2V+WwGz8jr6XV4XL3i/N2yzz+blmwcckvu9Jq+foZXh9++sqcm03gHclJfpAeCESr+xeT1Mze+bhcCnGj6TFwMX5rpvBHZuWM97N/v8kloO/pi3+wPA4StRz+S83R8G/qeHbXA4ab+3LK/zQ7rd5/b2TrzdD7p2MD8FvpS7rWxILAeOIH1Yv5RX7ndIO4635JW3YWUHswx4Y+5/OnBN7rdB3mhHkHa0r8wbabvKuI8Du5PO2tZtsjyzgO8C6wK7AEuAPasfom7WxQpvsoYPczUk7gFeBqyXX3+1cV2RmvCWkZqpOqfzZ+Cg/PxUUpiNADYCfg58pfIBXQ58La+j9YCvkIJkrfzYg7yzo5sPSpPtNYkUnq/IdX4O+GPu91bSjmk4KTBeAWxeWFfTye+X/Pok4DrgP4AO0ofzi6XlaTK9Yl25/6HAprnfJ0lhs27u92lSoL08170zsGll2/0iL9OW+f0wsbBMfwIOy883BHbr5jOwDanpcp28vLOA0xo+VzcDY5otb6W2mfk9sF4Ly9nTtj2ctAN7P+mz+CHSjleV5TsZWJu0A32icXqV6XZus1PyMr6JdGD28tz/DlYMoEuBT3YzrR1Jn9mdSAGzX8O6PZ/0+d8xb6Pq+/nfwAGk9/2n6Gr661zPL3jvk850lwEH5/E2BXZZiXp+QPrc7UwK+Vc02wa55icq62VzYPtu97nt2pm360FXSOxA2gF3sPIhcXel3455+M0q3R6pbKDpwAWVfhuSju7HkI6+/9BQ3/8Bx1fGPbubZRmTp7VRpdtXgOmVWnsjJD5X6fffwG+arSvgHOAL+fm4/KZdn7Qj+wewdWU6r6PraHIC6Yhl3Ur/k4DLOutotg1Ly9CwvX4NTKn0GwI8RfpQ7Qn8DdiNfJbSzbqazoohcQ/w9srrt5Ka9pouT5PpFesqDP8o+YiSdMY5qTBcAG+ovL4IOLYw7CzgRPKZYaX7Ctu1MO5+wE0N2+TIHtZhkA9guhmmupw9bdvDgbmVfuvnebyYFJDLgfUr/c9pnF6l34Q8/AYN6+7z+fkxwLn5+Yi8rZoeUDSZ9mnAqQ3rdttK//8HnFlZ5usa3hcL6TrDmkfzkDgOuHQ16hld6X8DXQd3K2wDUkg8BryLwsFA42OgXpMgIm4jHXEduwqjP1R5/s88vcZu1Qu6D1Tm+ySp+WQL0o7qtZIe63wAh5De5C8Yt4ktgKURsazS7T5gVIvLsZx01PE8SZ2v/13pvKjy/CnKF6vPIx3JAPwX8LOIeIoUxOsDcyrL+ZvcvdOSiHi68vrrpCPtyyXdK2lVthOkdXx6Zb5LSaE1KiKuBL5NOgtcLGmapI1bnO4WpHXd6b7crbQ8LdcFIOlTku6U9Hju/yJSExykg4N7upl2q9trCukM8S5Jf5a0T2mC+dtdF0haIOkJ0g53ZMNg3b1Xmw7Tw3K24vllze81SMvb+dl4qjJsT/U9Gitev6tu03OAd0raADiQdHC3sNlEJL1W0lWSlkh6nNT81926anzvVPcXz5Gawar9mym+J1qsp6X3TF4/78nTWCjpl5K27a6wARsS2fGkU9XqTrXzTbJ+pVt1p70qxnQ+kbQh6UjkQdKb4fcRMbzy2DAiPlQZN7qZ7oPACEkbVbptCSxosa77SUcSVVuRwqPVaVTNBDok7UIKi/Ny94dJwbl9ZTlfFBHVN+IKyxkRyyLikxHxUmBf4GhJezWZZ3frB9I6/kDDOl4vIv6Y5/PNiHg1sB1ph/npFpf1QdKOvtOWudtq1yVpD+AzpJ3RJhExnHTWq8q4W7dYZ1FE3B0RB5OazL4GXJx3gs1q/9/cfceI2JjUTKSGYXpa5hWGaWE5W5leyULSZ6P6OR5TGjjbJC9/p+e3aUQsIDVf7Q8cRrpuVnIeqWl1TES8iNRs2riuqrU0vneq+4shwOiG/s10955opZ6SF2yDiPhtRLyZ1NR0F6mpqmhAh0Skr3heCHys0m0JaQd5qKShko5k9T+Qb5f0Bklrky4CXxcRD5DOZF4m6TBJa+XHayS9osX6HyC1hX9F0rqSdiIdHZ7TYl2/AbatzH8EaWdwSazCVx8j4t/AT0hnASNIodF5NPQD4FRJ/wEgaZSkt5amJWkfSdtIEmnH8SzwXJNBHwLG5g9TM98HjpO0fZ7uiyS9Oz9/TT7KWot0cPB0YR7NnA98TlKHpJHAF2h9vXdbF+mazXJSW/UwSV8Aqmc4ZwBflDQu/xZmJ0mbrsS8yfM8VFJH3j6P5c7P5fk+B7y0MvhGpIuXj0saReth2p2elrOnbVsUEfeRLsqfIGltSa8D3tnCqCfm4fcA9iG9nzudTQq1HUnXNEs2Ip3FPC1pV9JZdaPPS1o/b/8jSPuhTq+WtH/+BtjHSdcIruuh7nOBvSUdKGmYpE3zwVqr9ZSssA3yGeWkHKb/Ir0nuv3MDOiQyE4itbNVvZ/0IXgE2J60I14d55HOWpYCryYdhZGbid4CHEQ6UlhE18XOVh1MOht4kHQx7fiI+F0rI0bEYuBtwAdI3/C5jbSz+FB34/XgPNI1n580BM0xpOaj63Jzxe9IF15LxuVhniQdwX03Iq5qMlznh/gRSTc29oyIS0nr9II839tIywxph/QDUjv4faTt/fVWFpL0hYXZpG/z3Er6FkrLP5rsoa7fkgL8b7mup1mxeeIUUnv55aSLiGeSLjqurInA7ZKeJH2h4qCI+GduovkycG1uDtuNdO3iVaTA/iXd7yRb1dNydrttW3AI6drXI6RtcyFpx1ayiPReeJC00/1gRNxV6X8p6ezx0oZmrEb/DZwkaRnp4OGiJsP8nvR5uAI4OSIur/S7jNSk8yjprGX/fABWFOk3S28nXfxfSvoSwc4rUU9J4zYYAhxNWkdLSRf4u91fdH6LwMysX5N0IXBXRBy/GtO4h9RM2NKBWJPxx9LNDxXVCz9e62/WhDMJM1sD5ebErSUNkTSR9LXjn63G9N5FaqO/srdqHAz8q0kz669eTGoW25T0DaEPRcRNqzIhSVeTvtxwWL6GYy1yc5OZmRW5ucnMzIoGdHPTyJEjY+zYsXWXYWY2oMyZM+fhiOjoecgBHhJjx45l9uzZdZdhZjagSLqv56ESNzeZmVmRQ8LMzIocEmZmVuSQMDOzIoeEmZkVOSTMzKzIIWFmZkUOCTMzK3JImJlZ0YD+xbXZytr9W7vXXUKvu/aj19Zdgq3BfCZhZmZFDgkzMytySJiZWZFDwszMihwSZmZW5JAwM7Mih4SZmRU5JMzMrMghYWZmRQ4JMzMrckiYmVmRQ8LMzIocEmZmVuSQMDOzIoeEmZkVOSTMzKyobSEh6YeSFku6rdLt65LuknSLpEslDa/0O07SXEl/lfTWdtVlZmata+eZxHRgYkO3mcAOEbET8DfgOABJ2wEHAdvncb4raWgbazMzsxa0LSQiYhawtKHb5RGxPL+8Dhidn08CLoiIf0XE34G5wK7tqs3MzFpT5zWJI4Ff5+ejgAcq/ebnbi8gaaqk2ZJmL1mypM0lmpkNbrWEhKT/AZYD567suBExLSLGR8T4jo6O3i/OzMyeN6yvZyjpcGAfYK+IiNx5ATCmMtjo3M3MzGrUp2cSkiYCnwH2jYinKr1mAAdJWkfSVsA44Ia+rM3MzF6obWcSks4HJgAjJc0Hjid9m2kdYKYkgOsi4oMRcbuki4A7SM1QH46IZ9tVm5mZtaZtIRERBzfpfGY3w38Z+HK76jEzs5XnX1ybmVmRQ8LMzIocEmZmVuSQMDOzIoeEmZkVOSTMzKzIIWFmZkUOCTMzK3JImJlZkUPCzMyKHBJmZlbkkDAzsyKHhJmZFTkkzMysqM//M531vftP2rHuEnrdll+4te4SzAYFn0mYmVmRQ8LMzIocEmZmVuSQMDOzIoeEmZkVOSTMzKzIIWFmZkVtCwlJP5S0WNJtlW4jJM2UdHf+u0nuLknflDRX0i2SXtWuuszMrHXtPJOYDkxs6HYscEVEjAOuyK8B3gaMy4+pwPfaWJeZmbWobSEREbOApQ2dJwFn5ednAftVup8dyXXAcEmbt6s2MzNrTV9fk9gsIhbm54uAzfLzUcADleHm524vIGmqpNmSZi9ZsqR9lZqZWX0XriMigFiF8aZFxPiIGN/R0dGGyszMrFNfh8RDnc1I+e/i3H0BMKYy3OjczczMatTXITEDmJyfTwYuq3R/b/6W027A45VmKTMzq0nbbhUu6XxgAjBS0nzgeOCrwEWSpgD3AQfmwX8FvB2YCzwFHNGuuszMrHVtC4mIOLjQa68mwwbw4XbVYmZmq8a/uDYzsyKHhJmZFTkkzMysyCFhZmZFDgkzMytySJiZWZFDwszMihwSZmZW5JAwM7Mih4SZmRU5JMzMrMghYWZmRQ4JMzMrckiYmVmRQ8LMzIocEmZmVuSQMDOzIoeEmZkVOSTMzKzIIWFmZkUOCTMzK3JImJlZUS0hIekTkm6XdJuk8yWtK2krSddLmivpQklr11GbmZl16fOQkDQK+BgwPiJ2AIYCBwFfA06NiG2AR4EpfV2bmZmtqK7mpmHAepKGAesDC4E9gYtz/7OA/WqqzczMsj4PiYhYAJwM3E8Kh8eBOcBjEbE8DzYfGNVsfElTJc2WNHvJkiV9UbKZ2aBVR3PTJsAkYCtgC2ADYGKr40fEtIgYHxHjOzo62lSlmZlBPc1NewN/j4glEfFv4KfA7sDw3PwEMBpYUENtZmZWUUdI3A/sJml9SQL2Au4ArgIOyMNMBi6roTYzM6uo45rE9aQL1DcCt+YapgHHAEdLmgtsCpzZ17WZmdmKhvU8CEi6IiL26qlbqyLieOD4hs73AruuyvTMzKw9ug0JSeuSvqI6Ml9wVu61MYVvH5mZ2ZqjpzOJDwAfJ30LaQ5dIfEE8O021mVmZv1AtyEREacDp0v6aER8q49qMjOzfqKlaxIR8S1JrwfGVseJiLPbVJeZmfUDrV64/jGwNXAz8GzuHIBDwmyA+v0b31R3Cb3uTbN+X3cJa5yWQgIYD2wXEdHOYszMrH9p9XcStwEvbmchZmbW/7R6JjESuEPSDcC/OjtGxL5tqcrMzPqFVkPihHYWYWZm/VOr327y1SAzs0Go1W83LSN9mwlgbWAt4B8RsXG7CjMzs/q1eiaxUefzfOfWScBu7SrKzMz6h5W+C2wkPwPe2oZ6zMysH2m1uWn/ysshpN9NPN2WiszMrN9o9dtN76w8Xw7MIzU5mZnZGqzVaxJHtLsQMzPrf1q6JiFptKRLJS3Oj0skjW53cWZmVq9WL1z/CJhB+r8SWwA/z93MzGwN1mpIdETEjyJieX5MBzraWJeZmfUDrYbEI5IOlTQ0Pw4FHmlnYWZmVr9WQ+JI4EBgEbAQOAA4vE01mZlZP9HqV2BPAiZHxKMAkkYAJ5PCw8zM1lCtnkns1BkQABGxFHjlqs5U0nBJF0u6S9Kdkl4naYSkmZLuzn83WdXpm5lZ72g1JIZUd9r5TKLVs5BmTgd+ExHbAjsDdwLHAldExDjgivzazMxq1OqO/hvAnyT9JL9+N/DlVZmhpBcBbyRf04iIZ4BnJE0CJuTBzgKuBo5ZlXmYmVnvaPUX12dLmg3smTvtHxF3rOI8twKWAD+StDMwBzgK2CwiFuZhFgGbNRtZ0lRgKsCWW265iiWYmXX59id/XncJve4j33hnzwO1oOUmoxwKqxoMjfN8FfDRiLhe0uk0NC1FREiKZiNHxDRgGsD48eObDmNmZr1jpW8V3gvmA/Mj4vr8+mJSaDwkaXOA/HdxDbWZmVlFn4dERCwCHpD08txpL9IZygxgcu42Gbisr2szM7MVrc43lFbHR4FzJa0N3AscQQqsiyRNAe4j/XjPzMxqVEtIRMTNpH9c1Givvq7FzMzK6rgmYWZmA4RDwszMihwSZmZW5JAwM7Mih4SZmRU5JMzMrMghYWZmRQ4JMzMrckiYmVmRQ8LMzIocEmZmVuSQMDOzIoeEmZkVOSTMzKzIIWFmZkUOCTMzK3JImJlZkUPCzMyKHBJmZlbkkDAzsyKHhJmZFTkkzMysqLaQkDRU0k2SfpFfbyXpeklzJV0oae26ajMzs6TOM4mjgDsrr78GnBoR2wCPAlNqqcrMzJ5XS0hIGg28AzgjvxawJ3BxHuQsYL86ajMzsy51nUmcBnwGeC6/3hR4LCKW59fzgVF1FGZmZl36PCQk7QMsjog5qzj+VEmzJc1esmRJL1dnZmZVdZxJ7A7sK2kecAGpmel0YLikYXmY0cCCZiNHxLSIGB8R4zs6OvqiXjOzQavPQyIijouI0RExFjgIuDIiDgGuAg7Ig00GLuvr2szMbEX96XcSxwBHS5pLukZxZs31mJkNesN6HqR9IuJq4Or8/F5g1zrrMTOzFfWnMwkzM+tnHBJmZlbkkDAzsyKHhJmZFTkkzMysyCFhZmZFDgkzMytySJiZWZFDwszMihwSZmZW5JAwM7Mih4SZmRU5JMzMrMghYWZmRQ4JMzMrckiYmVlRrf90qJ1e/emz6y6h1835+nvrLsHMBhmfSZiZWZFDwszMihwSZmZW5JAwM7Mih4SZmRX1eUhIGiPpKkl3SLpd0lG5+whJMyXdnf9u0te1mZnZiuo4k1gOfDIitgN2Az4saTvgWOCKiBgHXJFfm5lZjfo8JCJiYUTcmJ8vA+4ERgGTgLPyYGcB+/V1bWZmtqJar0lIGgu8Erge2CwiFuZei4DNairLzMyy2kJC0obAJcDHI+KJar+ICCAK402VNFvS7CVLlvRBpWZmg1ctISFpLVJAnBsRP82dH5K0ee6/ObC42bgRMS0ixkfE+I6Ojr4p2MxskKrj200CzgTujIhTKr1mAJPz88nAZX1dm5mZraiOG/ztDhwG3Crp5tzts8BXgYskTQHuAw6soTYzM6vo85CIiGsAFXrv1Ze1mJlZ9/yLazMzK3JImJlZkUPCzMyKHBJmZlbkkDAzsyKHhJmZFTkkzMysyCFhZmZFDgkzMytySJiZWZFDwszMihwSZmZW5JAwM7Mih4SZmRU5JMzMrMghYWZmRQ4JMzMrckiYmVmRQ8LMzIocEmZmVuSQMDOzIoeEmZkVOSTMzKyo34WEpImS/ipprqRj667HzGww61chIWko8B3gbcB2wMGStqu3KjOzwatfhQSwKzA3Iu6NiGeAC4BJNddkZjZoKSLqruF5kg4AJkbE+/Lrw4DXRsRHKsNMBabmly8H/trnhb7QSODhuovoJ7wuunhddPG66NIf1sVLIqKjlQGHtbuS3hYR04BpdddRJWl2RIyvu47+wOuii9dFF6+LLgNtXfS35qYFwJjK69G5m5mZ1aC/hcSfgXGStpK0NnAQMKPmmszMBq1+1dwUEcslfQT4LTAU+GFE3F5zWa3oV81fNfO66OJ10cXrosuAWhf96sK1mZn1L/2tucnMzPoRh4SZmRU5JFaDpB9KWizptrprqZOkMZKuknSHpNslHVV3TXWRtK6kGyT9Ja+LE+uuqW6Shkq6SdIv6q6lTpLmSbpV0s2SZtddT6t8TWI1SHoj8CRwdkTsUHc9dZG0ObB5RNwoaSNgDrBfRNxRc2l9TpKADSLiSUlrAdcAR0XEdTWXVhtJRwPjgY0jYp+666mLpHnA+Iio+4d0K8VnEqshImYBS+uuo24RsTAibszPlwF3AqPqraoekTyZX66VH4P2SEzSaOAdwBl112KrxiFhvUrSWOCVwPX1VlKf3LxyM7AYmBkRg3ZdAKcBnwGeq7uQfiCAyyXNybcXGhAcEtZrJG0IXAJ8PCKeqLueukTEsxGxC+mOAbtKGpRNkZL2ARZHxJy6a+kn3hARryLd5frDubm633NIWK/I7e+XAOdGxE/rrqc/iIjHgKuAiXXXUpPdgX1zW/wFwJ6Szqm3pPpExIL8dzFwKemu1/2eQ8JWW75YeyZwZ0ScUnc9dZLUIWl4fr4e8GbgrnqrqkdEHBcRoyNiLOkWO1dGxKE1l1ULSRvkL3UgaQPgLcCA+FakQ2I1SDof+BPwcknzJU2pu6aa7A4cRjpSvDk/3l53UTXZHLhK0i2ke5HNjIhB/dVPA2Az4BpJfwFuAH4ZEb+puaaW+CuwZmZW5DMJMzMrckiYmVmRQ8LMzIocEmZmVuSQMDOzIoeEDSiSxjbedVfSCZI+1cN44yV9s821/bFS43+t5LgTJD2evz58l6STWxhnP0nbVV6fJGnvla/crMwhYYNCRMyOiI+t7nQkFf/lb0S8Pj8dC6xUSGR/yLfzeCWwj6Tdexh+P+D5kIiIL0TE71ZhvmZFDglbo0i6WtLX8v90+JukPXL3CZJ+IWlIvq//8Mo4d0vaLP9a+hJJf86P3XP/EyT9WNK1wI8lbZ+nf7OkWySNy8N13v31q8Aeuf8nJM2StEtlftdI2rm0DBHxT+Bm8p10Jb0/1/OXXN/6kl4P7At8Pc9na0nTJR2Qx5kn6URJN+b/YbBt7t4haWb+XxdnSLpP0she2wC2xnFI2JpoWETsCnwcOL7aIyKeAy4D/hNA0muB+yLiIeB04NSIeA3wLla8vfV2wN4RcTDwQeD0fNQ/HpjfMP9jyWcFEXEq6ZYlh+f5vQxYNyL+Uipe0ibAOGBW7vTTiHhNROxMug37lIj4IzAD+HSezz1NJvVwvqHc94DO5rjjSbfH2B64GNiyVIcZOCRs4CndIqDavfMGg3NITT+NLgTek58flF8D7A18O9/mewawcb6zLcCMfIQP6VYsn5V0DPCSSveSn5Caj9YCjgSmF4bbI9+2YQHw24hYlLvvIOkPkm4FDgG272F+nZqthzeQbrZHvi3Eoy1OywYph4QNNI8AmzR0GwFU/9vXv/LfZ4Fm1xD+BGwjqYPUrt+5Mx0C7JaPzHeJiFGVfyD0j86RI+I8UlPPP4FfSdqzu4Ij4ilgJjAJOBA4tzDoH/LZwvbAlEoT1XTgIxGxI3AisG5386voaT2Y9cghYQNK3mkv7NwxSxpBuhX3NSsxjSDdqvkU0p1rH8m9Lgc+2jlc9TpClaSXAvdGxDdJTVc7NQyyDNioodsZwDeBP0dEt0fvEfF30nWNY3KnjUjLvBbpTKK7+fTkWlJQIektvDBwzVbgkLCB6L3A53Oz0JXAiYU2+e5cCBxKV1MTwMeA8fli9B2kaw/NHAjclue/A3B2Q/9bgGfzheZPAOR/vPME8KMW6/s+8Mb8n/4+T/pPf9ey4m3HLwA+LekmSVu3ON0TgbfkrxG/G1hEChuzpnwXWLM+IGkL4Gpg23zxvK461gGejYjlkl4HfC9fgDdryu2UZm0m6b3Al4Gj6wyIbEvgIklDgGeA99dcj/VzPpMwM7MiX5MwM7Mih4SZmRU5JMzMrMghYWZmRQ4JMzMr+v8cmd90TNqeuQAAAABJRU5ErkJggg==\n"
          },
          "metadata": {
            "needs_background": "light"
          }
        }
      ],
      "source": [
        "sns.countplot(x=data[\"University Rating\"]);\n",
        "plt.title(\"Number of Universities for each star rating by applicants\");"
      ]
    },
    {
      "cell_type": "markdown",
      "id": "4c430a99",
      "metadata": {
        "id": "4c430a99"
      },
      "source": [
        "Observations on University rating :\n",
        "- Close to 130 applicants have marked their university as 3 stars.\n",
        "- 3 stars are followed by 2 stars for universities.\n",
        "- 1 star is given by only 30 applicants which is lowest."
      ]
    },
    {
      "cell_type": "code",
      "execution_count": 18,
      "id": "733e8c75",
      "metadata": {
        "colab": {
          "base_uri": "https://localhost:8080/",
          "height": 0
        },
        "id": "733e8c75",
        "outputId": "51c51b45-672e-4949-e7ff-bba958090c6e"
      },
      "outputs": [
        {
          "output_type": "display_data",
          "data": {
            "text/plain": [
              "<Figure size 360x360 with 1 Axes>"
            ],
            "image/png": "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\n"
          },
          "metadata": {
            "needs_background": "light"
          }
        }
      ],
      "source": [
        "sns.displot(x=data[\"SOP\"], kde=True, color='green');\n",
        "plt.title(\"Distribution for ratings on SOP\");"
      ]
    },
    {
      "cell_type": "markdown",
      "id": "94d89c6c",
      "metadata": {
        "id": "94d89c6c"
      },
      "source": [
        "Observations from statement of purpose :\n",
        "- Most of the applicants have received 3.0 to 4.0 stars in their SOP.\n",
        "- Based on the plot, rating distribution can be bucketed in 3 sections 1.0 to 2.6 as low ratings and 3.0 to 5.0 as high level of ratings."
      ]
    },
    {
      "cell_type": "code",
      "execution_count": 19,
      "id": "5c7bca8a",
      "metadata": {
        "colab": {
          "base_uri": "https://localhost:8080/",
          "height": 0
        },
        "id": "5c7bca8a",
        "outputId": "983d63c5-33a1-4442-a45d-0b603bd28b36"
      },
      "outputs": [
        {
          "output_type": "display_data",
          "data": {
            "text/plain": [
              "<Figure size 360x360 with 1 Axes>"
            ],
            "image/png": "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\n"
          },
          "metadata": {
            "needs_background": "light"
          }
        }
      ],
      "source": [
        "sns.displot(x=data[\"LOR\"], kde=True, color='purple');\n",
        "plt.title(\"Letter of recommendation of applicants Distribution\");"
      ]
    },
    {
      "cell_type": "markdown",
      "id": "f235d0a1",
      "metadata": {
        "id": "f235d0a1"
      },
      "source": [
        "Observations for LOR :\n",
        "- Most applicants have a recommendation ratting of 3.0.\n",
        "- A very good number of applicants are having LOR ratting between 3 to 4 inclusive."
      ]
    },
    {
      "cell_type": "code",
      "execution_count": 20,
      "id": "cf960467",
      "metadata": {
        "colab": {
          "base_uri": "https://localhost:8080/",
          "height": 0
        },
        "id": "cf960467",
        "outputId": "402d0c4d-eca7-4b21-fe6a-fa9bc4072570"
      },
      "outputs": [
        {
          "output_type": "display_data",
          "data": {
            "text/plain": [
              "<Figure size 360x360 with 1 Axes>"
            ],
            "image/png": "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\n"
          },
          "metadata": {
            "needs_background": "light"
          }
        }
      ],
      "source": [
        "sns.displot(x=data[\"CGPA\"], kde=True, color='green');\n",
        "plt.title(\"Distribution of CGPA Score\");"
      ]
    },
    {
      "cell_type": "markdown",
      "id": "4fc4014b",
      "metadata": {
        "id": "4fc4014b"
      },
      "source": [
        "Observations for CGPA :\n",
        "- CGPA scores are distributed in range of 6.8 to 9.92 inclusive.\n",
        "- More than 70 applicants have the CGPA of 8.67."
      ]
    },
    {
      "cell_type": "code",
      "execution_count": 21,
      "id": "1c55cce6",
      "metadata": {
        "colab": {
          "base_uri": "https://localhost:8080/",
          "height": 0
        },
        "id": "1c55cce6",
        "outputId": "d6c1d5f5-5333-4f23-8ebf-54f7015df799"
      },
      "outputs": [
        {
          "output_type": "display_data",
          "data": {
            "text/plain": [
              "<Figure size 432x288 with 1 Axes>"
            ],
            "image/png": "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\n"
          },
          "metadata": {
            "needs_background": "light"
          }
        }
      ],
      "source": [
        "sns.countplot(x=data[\"Research\"]);\n",
        "plt.title(\"Research Count\");"
      ]
    },
    {
      "cell_type": "markdown",
      "id": "7b71d464",
      "metadata": {
        "id": "7b71d464"
      },
      "source": [
        "Observations on Research :\n",
        "- Out of 400 applicants approx 240 applicants have opened for research.\n",
        "- In precentage 64% applicants are chosing for research option."
      ]
    },
    {
      "cell_type": "markdown",
      "id": "3739f11f",
      "metadata": {
        "id": "3739f11f"
      },
      "source": [
        "### Bivariate Analysis"
      ]
    },
    {
      "cell_type": "code",
      "execution_count": 22,
      "id": "914c20da",
      "metadata": {
        "id": "914c20da"
      },
      "outputs": [],
      "source": [
        "cols = data.columns"
      ]
    },
    {
      "cell_type": "code",
      "execution_count": 23,
      "id": "d1e48da2",
      "metadata": {
        "id": "d1e48da2"
      },
      "outputs": [],
      "source": [
        "features = [i for i in data.columns if i != 'Chance of Admit']\n",
        "label = 'Chance of Admit'"
      ]
    },
    {
      "cell_type": "code",
      "execution_count": 24,
      "id": "4525f62e",
      "metadata": {
        "colab": {
          "base_uri": "https://localhost:8080/"
        },
        "id": "4525f62e",
        "outputId": "4a2aef96-d6ca-4e85-f3a4-250f458d63ed"
      },
      "outputs": [
        {
          "output_type": "execute_result",
          "data": {
            "text/plain": [
              "['GRE Score',\n",
              " 'TOEFL Score',\n",
              " 'University Rating',\n",
              " 'SOP',\n",
              " 'LOR',\n",
              " 'CGPA',\n",
              " 'Research']"
            ]
          },
          "metadata": {},
          "execution_count": 24
        }
      ],
      "source": [
        "features"
      ]
    },
    {
      "cell_type": "code",
      "execution_count": 25,
      "id": "7e2884a9",
      "metadata": {
        "colab": {
          "base_uri": "https://localhost:8080/",
          "height": 690
        },
        "id": "7e2884a9",
        "outputId": "92af7672-05ec-47c2-80e4-71f8c16025a5"
      },
      "outputs": [
        {
          "output_type": "execute_result",
          "data": {
            "text/plain": [
              "[]"
            ]
          },
          "metadata": {},
          "execution_count": 25
        },
        {
          "output_type": "display_data",
          "data": {
            "text/plain": [
              "<Figure size 1080x864 with 7 Axes>"
            ],
            "image/png": "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